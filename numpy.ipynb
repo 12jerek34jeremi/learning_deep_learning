{
 "cells": [
  {
   "cell_type": "code",
   "execution_count": 5,
   "outputs": [],
   "source": [
    "import numpy as np\n",
    "import MNIST_loader as loader # przyda się później do wczytania danych MNIST\n",
    "import matplotlib.pyplot as plt # do wyświetlania wykresów i obrazów"
   ],
   "metadata": {
    "collapsed": false,
    "pycharm": {
     "name": "#%%\n"
    }
   }
  },
  {
   "cell_type": "markdown",
   "source": [
    "# Tworzenie tablic"
   ],
   "metadata": {
    "collapsed": false,
    "pycharm": {
     "name": "#%% md\n"
    }
   }
  },
  {
   "cell_type": "code",
   "execution_count": 2,
   "outputs": [
    {
     "name": "stdout",
     "output_type": "stream",
     "text": [
      "[ 16  13 112  23  54]\n"
     ]
    }
   ],
   "source": [
    "my_array = np.array([16, 13, 112, 23, 54])\n",
    "print(my_array)"
   ],
   "metadata": {
    "collapsed": false,
    "pycharm": {
     "name": "#%%\n"
    }
   }
  },
  {
   "cell_type": "code",
   "execution_count": 3,
   "outputs": [
    {
     "name": "stdout",
     "output_type": "stream",
     "text": [
      "[[ 16  13 112]\n",
      " [ 23  54  45]]\n"
     ]
    }
   ],
   "source": [
    "my_array = np.array([[16, 13, 112], [23, 54, 45]])\n",
    "print(my_array)"
   ],
   "metadata": {
    "collapsed": false,
    "pycharm": {
     "name": "#%%\n"
    }
   }
  },
  {
   "cell_type": "markdown",
   "source": [
    "Zmienianie kształtu tablicy"
   ],
   "metadata": {
    "collapsed": false,
    "pycharm": {
     "name": "#%% md\n"
    }
   }
  },
  {
   "cell_type": "code",
   "execution_count": 4,
   "outputs": [
    {
     "name": "stdout",
     "output_type": "stream",
     "text": [
      "[17 12  2  7  1  5] \n",
      "\n",
      "\n",
      "[[17 12  2]\n",
      " [ 7  1  5]]\n"
     ]
    }
   ],
   "source": [
    "my_array = np.array([17, 12, 2, 7, 1, 5])\n",
    "print(my_array, '\\n\\n')\n",
    "my_array.resize((2, 3))\n",
    "print(my_array)"
   ],
   "metadata": {
    "collapsed": false,
    "pycharm": {
     "name": "#%%\n"
    }
   }
  },
  {
   "cell_type": "code",
   "execution_count": 5,
   "outputs": [
    {
     "name": "stdout",
     "output_type": "stream",
     "text": [
      "[[0. 0. 0. 0. 0. 0. 0.]\n",
      " [0. 0. 0. 0. 0. 0. 0.]\n",
      " [0. 0. 0. 0. 0. 0. 0.]]\n"
     ]
    }
   ],
   "source": [
    "my_array = np.zeros((3, 7))\n",
    "print(my_array)"
   ],
   "metadata": {
    "collapsed": false,
    "pycharm": {
     "name": "#%%\n"
    }
   }
  },
  {
   "cell_type": "code",
   "execution_count": 6,
   "outputs": [
    {
     "name": "stdout",
     "output_type": "stream",
     "text": [
      "[15 16 17 18 19 20 21 22 23 24 25 26 27 28 29 30 31 32]\n"
     ]
    }
   ],
   "source": [
    "my_array = np.arange(15, 33)\n",
    "print(my_array)"
   ],
   "metadata": {
    "collapsed": false,
    "pycharm": {
     "name": "#%%\n"
    }
   }
  },
  {
   "cell_type": "markdown",
   "source": [
    "# Indeksowanie"
   ],
   "metadata": {
    "collapsed": false,
    "pycharm": {
     "name": "#%% md\n"
    }
   }
  },
  {
   "cell_type": "code",
   "execution_count": 7,
   "outputs": [
    {
     "name": "stdout",
     "output_type": "stream",
     "text": [
      "[ 16  13 112  23  54] \n",
      "\n",
      "\n",
      "[[ 16  13 112]\n",
      " [ 23  54  45]]\n"
     ]
    }
   ],
   "source": [
    "my_array1 = np.array([16, 13, 112, 23, 54])\n",
    "my_array2 = np.array([[16, 13, 112], [23, 54, 45]])\n",
    "print(my_array1, '\\n\\n')\n",
    "print(my_array2)"
   ],
   "metadata": {
    "collapsed": false,
    "pycharm": {
     "name": "#%%\n"
    }
   }
  },
  {
   "cell_type": "code",
   "execution_count": 8,
   "outputs": [
    {
     "data": {
      "text/plain": "23"
     },
     "execution_count": 8,
     "metadata": {},
     "output_type": "execute_result"
    }
   ],
   "source": [
    "my_array1[3]"
   ],
   "metadata": {
    "collapsed": false,
    "pycharm": {
     "name": "#%%\n"
    }
   }
  },
  {
   "cell_type": "code",
   "execution_count": 9,
   "outputs": [
    {
     "data": {
      "text/plain": "13"
     },
     "execution_count": 9,
     "metadata": {},
     "output_type": "execute_result"
    }
   ],
   "source": [
    "my_array2[0,1]"
   ],
   "metadata": {
    "collapsed": false,
    "pycharm": {
     "name": "#%%\n"
    }
   }
  },
  {
   "cell_type": "code",
   "execution_count": 10,
   "outputs": [],
   "source": [
    "## więcej indeksowania na dole w notebooku"
   ],
   "metadata": {
    "collapsed": false,
    "pycharm": {
     "name": "#%%\n"
    }
   }
  },
  {
   "cell_type": "markdown",
   "source": [
    "# Zadanie 1:\n",
    "Stwórz fukcję, która bierze jako argumenty dwie liczbę naturalne N i L oraz tworzy tablice o kształcie (L,) (jednowymiarową), taką że wszysktie elementy tablicy oprócz elemntu o indeksie N to zera. Element o indeksie N ma wartość swojego indeksu. Możesz pominąc walidację danych.\n",
    "\n",
    "Czyli na przykład dla N=2 i L=7 wyprodukej taką tablice: [0.0, 0.0, 1.0, 0.0, 0.0, 0.0, 0.0]"
   ],
   "metadata": {
    "collapsed": false,
    "pycharm": {
     "name": "#%% md\n"
    }
   }
  },
  {
   "cell_type": "code",
   "execution_count": 11,
   "outputs": [],
   "source": [
    "def one_hot_encoding(number : int, length: int =10) -> np.ndarray:\n",
    "    \"\"\"\n",
    "    Creates a one hot encoding of a number.\n",
    "    5  --> [0, 0, 0, 0, 0, 1, 0, 0, 0, 0]\n",
    "    :param length: Length of returned ndarray.\n",
    "    :param number: (int) Natural number.\n",
    "    :return: An ndarray of shape (L,) with all elements equal to zero, except element which index is N. Element which index is N has it's index value.\n",
    "    \"\"\"\n",
    "    result = np.zeros((length,))\n",
    "    result[number] = number\n",
    "\n",
    "    return result"
   ],
   "metadata": {
    "collapsed": false,
    "pycharm": {
     "name": "#%%\n"
    }
   }
  },
  {
   "cell_type": "code",
   "execution_count": 12,
   "outputs": [
    {
     "name": "stdout",
     "output_type": "stream",
     "text": [
      "[0. 0. 2. 0. 0. 0. 0.]\n"
     ]
    }
   ],
   "source": [
    "print(one_hot_encoding(2, 7))"
   ],
   "metadata": {
    "collapsed": false,
    "pycharm": {
     "name": "#%%\n"
    }
   }
  },
  {
   "cell_type": "markdown",
   "source": [
    "# Zadanie 2 (optional)\n",
    "Stwóz funkcję która, zakoduje w sposób one-hot kilka liczb naturalnych. Mówiąc inaczej stworzy macierz, która ma tyle wierszy ile liczb ma zakodować. W każdym wierszu tylko jeden element ma wartośc jeden, pozostałe mają wartosć 0.0 . Element wiersza o wartości 1.0 ma indeks równy liczbie którą zakodowuje. (Każdy wiersz zakodowuje jedną liczbę.) Liczba kolumn to wartość największej liczby do zakodowania zwiększona o 1. Możesz pominąc walidację danych.\n",
    "\n",
    "Przykładowo:"
   ],
   "metadata": {
    "collapsed": false,
    "pycharm": {
     "name": "#%% md\n"
    }
   }
  },
  {
   "cell_type": "code",
   "execution_count": 13,
   "outputs": [],
   "source": [
    "#                   [[0, 0, 1, 0, 0, 0]\n",
    "# [2, 0, 5, 2]  -->  [1, 0, 0, 0, 0, 0]\n",
    "#                    [0, 0, 0, 0, 0, 1]\n",
    "#                    [0, 0, 1, 0, 0, 0]]"
   ],
   "metadata": {
    "collapsed": false,
    "pycharm": {
     "name": "#%%\n"
    }
   }
  },
  {
   "cell_type": "code",
   "execution_count": 14,
   "outputs": [],
   "source": [
    "def one_hot_encoding_multi(numbers: list[int]) -> np.ndarray:\n",
    "    \"\"\"\n",
    "    Performs an one-hot encoding on list of natural number\n",
    "\n",
    "    :param list: A list of natural numbers to encode.\n",
    "    :return: An ndarray of shape (L, max_n + 1), where L is length of 'numbers' list (how many numbers to encode) and max_n is value of the greatest number in passed list.\n",
    "             In each row of returned matrix only one element has value 1.0, all other elements has value 0.0. Each row corresponds to one number. Index of element of value 1.0 is equal to number the row is encoding.\n",
    "    \"\"\"\n",
    "    result = np.zeros((len(numbers), max(numbers)+1))\n",
    "    for i, number in enumerate(numbers):\n",
    "        result[i, number] = number\n",
    "    return result"
   ],
   "metadata": {
    "collapsed": false,
    "pycharm": {
     "name": "#%%\n"
    }
   }
  },
  {
   "cell_type": "code",
   "execution_count": 15,
   "outputs": [
    {
     "name": "stdout",
     "output_type": "stream",
     "text": [
      "[[ 0.  0.  0.  0.  0.  0.  0.  0.  0.  0.  0.  0. 12.  0.]\n",
      " [ 0.  0.  0.  0.  0.  0.  0.  0.  0.  0.  0.  0.  0. 13.]\n",
      " [ 0.  0.  0.  0.  0.  0.  0.  7.  0.  0.  0.  0.  0.  0.]\n",
      " [ 0.  0.  0.  0.  0.  5.  0.  0.  0.  0.  0.  0.  0.  0.]]\n"
     ]
    }
   ],
   "source": [
    "print(one_hot_encoding_multi([12, 13, 7, 5]))"
   ],
   "metadata": {
    "collapsed": false,
    "pycharm": {
     "name": "#%%\n"
    }
   }
  },
  {
   "cell_type": "markdown",
   "source": [
    "# Elementwise"
   ],
   "metadata": {
    "collapsed": false,
    "pycharm": {
     "name": "#%% md\n"
    }
   }
  },
  {
   "cell_type": "code",
   "execution_count": 16,
   "outputs": [
    {
     "name": "stdout",
     "output_type": "stream",
     "text": [
      "array1: \n",
      " [12  3  2  1] \n",
      "array2:\n",
      " [ 4  1  8 15]\n"
     ]
    }
   ],
   "source": [
    "array1 = np.array([12, 3, 2, 1])\n",
    "array2 = np.array([4, 1, 8, 15])\n",
    "print('array1: \\n', array1, '\\narray2:\\n', array2)"
   ],
   "metadata": {
    "collapsed": false,
    "pycharm": {
     "name": "#%%\n"
    }
   }
  },
  {
   "cell_type": "code",
   "execution_count": 17,
   "outputs": [
    {
     "name": "stdout",
     "output_type": "stream",
     "text": [
      "[16  4 10 16]\n"
     ]
    }
   ],
   "source": [
    "result = array1 +array2\n",
    "print(result)"
   ],
   "metadata": {
    "collapsed": false,
    "pycharm": {
     "name": "#%%\n"
    }
   }
  },
  {
   "cell_type": "code",
   "execution_count": 18,
   "outputs": [
    {
     "name": "stdout",
     "output_type": "stream",
     "text": [
      "array1: \n",
      " [[5 4]\n",
      " [2 3]] \n",
      "\n",
      "array2:\n",
      " [[7 2]\n",
      " [1 8]]\n"
     ]
    }
   ],
   "source": [
    "array1 = np.array([[5, 4], [2, 3]])\n",
    "array2 = np.array([[7, 2], [1, 8]])\n",
    "print('array1: \\n', array1, '\\n\\narray2:\\n', array2)"
   ],
   "metadata": {
    "collapsed": false,
    "pycharm": {
     "name": "#%%\n"
    }
   }
  },
  {
   "cell_type": "code",
   "execution_count": 19,
   "outputs": [
    {
     "name": "stdout",
     "output_type": "stream",
     "text": [
      "array1 * array2: [[35  8]\n",
      " [ 2 24]]\n"
     ]
    }
   ],
   "source": [
    "result1 = array1 * array2\n",
    "print('array1 * array2:', result1)"
   ],
   "metadata": {
    "collapsed": false,
    "pycharm": {
     "name": "#%%\n"
    }
   }
  },
  {
   "cell_type": "code",
   "execution_count": 20,
   "outputs": [
    {
     "name": "stdout",
     "output_type": "stream",
     "text": [
      "[1. 2. 3. 4. 5. 6.]\n"
     ]
    }
   ],
   "source": [
    "array1 = np.array([1, 2, 3, 4, 5, 6], dtype=np.float64)\n",
    "print(array1)"
   ],
   "metadata": {
    "collapsed": false,
    "pycharm": {
     "name": "#%%\n"
    }
   }
  },
  {
   "cell_type": "code",
   "execution_count": 21,
   "outputs": [
    {
     "name": "stdout",
     "output_type": "stream",
     "text": [
      "[ 2.5  5.   7.5 10.  12.5 15. ]\n"
     ]
    }
   ],
   "source": [
    "result1 = array1 * 2.5\n",
    "print(result1)"
   ],
   "metadata": {
    "collapsed": false,
    "pycharm": {
     "name": "#%%\n"
    }
   }
  },
  {
   "cell_type": "code",
   "execution_count": 22,
   "outputs": [
    {
     "name": "stdout",
     "output_type": "stream",
     "text": [
      "[1.         0.5        0.33333333 0.25       0.2        0.16666667]\n"
     ]
    }
   ],
   "source": [
    "result2 = 1.0 / array1\n",
    "print(result2)"
   ],
   "metadata": {
    "collapsed": false,
    "pycharm": {
     "name": "#%%\n"
    }
   }
  },
  {
   "cell_type": "markdown",
   "source": [
    "# Zadanie 3\n",
    "Napisz funkcję sigmoid. Polecam : <a href=\"https://numpy.org/doc/stable/reference/generated/numpy.exp.html\">numpy.exp()</a>\n",
    "![title](notebooks_data/sigmoid.png)"
   ],
   "metadata": {
    "collapsed": false,
    "pycharm": {
     "name": "#%% md\n"
    }
   }
  },
  {
   "cell_type": "code",
   "execution_count": 11,
   "outputs": [],
   "source": [
    "def sigmoid(z: np.ndarray):\n",
    "    \"\"\"\n",
    "    :param z: Arguments for sigmoid function\n",
    "    :return: Values of sigmoid function for consecutive arguments.\n",
    "    \"\"\"\n",
    "    return 1.0 / (np.exp(-z) + 1.0)"
   ],
   "metadata": {
    "collapsed": false,
    "pycharm": {
     "name": "#%%\n"
    }
   }
  },
  {
   "cell_type": "code",
   "execution_count": 24,
   "outputs": [
    {
     "name": "stdout",
     "output_type": "stream",
     "text": [
      "[0.0000454  0.00669285 0.26894142 0.5        0.73105858 0.99330715\n",
      " 0.9999546 ]\n"
     ]
    }
   ],
   "source": [
    "np.set_printoptions(suppress=True)\n",
    "z = np.array([-10.0, -5.0, -1.0, 0.0, 1.0, 5.0, 10.0])\n",
    "result = sigmoid(z)\n",
    "print(result)"
   ],
   "metadata": {
    "collapsed": false,
    "pycharm": {
     "name": "#%%\n"
    }
   }
  },
  {
   "cell_type": "markdown",
   "source": [
    "# Mnożenie macierzy:"
   ],
   "metadata": {
    "collapsed": false,
    "pycharm": {
     "name": "#%% md\n"
    }
   }
  },
  {
   "cell_type": "code",
   "execution_count": 25,
   "outputs": [
    {
     "name": "stdout",
     "output_type": "stream",
     "text": [
      "A: \n",
      " [[1 3 4]\n",
      " [2 7 8]] \n",
      "\n",
      "B:\n",
      " [[ 1  3]\n",
      " [ 5  1]\n",
      " [12  4]]\n"
     ]
    }
   ],
   "source": [
    "A = np.array([[1, 3, 4], [2, 7, 8]])\n",
    "B = np.array([[1, 3], [5, 1], [12, 4]])\n",
    "print('A: \\n', A, '\\n\\nB:\\n', B)"
   ],
   "metadata": {
    "collapsed": false,
    "pycharm": {
     "name": "#%%\n"
    }
   }
  },
  {
   "cell_type": "code",
   "execution_count": 26,
   "outputs": [
    {
     "name": "stdout",
     "output_type": "stream",
     "text": [
      "[[ 64  22]\n",
      " [133  45]]\n"
     ]
    }
   ],
   "source": [
    "C = A @ B\n",
    "print(C)"
   ],
   "metadata": {
    "collapsed": false,
    "pycharm": {
     "name": "#%%\n"
    }
   }
  },
  {
   "cell_type": "code",
   "execution_count": 27,
   "outputs": [],
   "source": [
    "C = np.matmul(A, B)\n",
    "C = np.dot(A, B)"
   ],
   "metadata": {
    "collapsed": false,
    "pycharm": {
     "name": "#%%\n"
    }
   }
  },
  {
   "cell_type": "markdown",
   "source": [
    "# Siec Neuronowa\n",
    "Napisz interpretacje sieci neuronowej, która posiada tylko jedną warstwę ukrytą. Konstruktorowi klasy przesyłamy liczbę neuronów w poszczególnych warstwach. Klasa posiada funkcje forward, która imituje działanie sieci neuronowej. Warstwa ukryta i wyjściowa powinna mieć aktywację sigmoid."
   ],
   "metadata": {
    "collapsed": false,
    "pycharm": {
     "name": "#%% md\n"
    }
   }
  },
  {
   "cell_type": "code",
   "execution_count": 31,
   "outputs": [],
   "source": [
    "# first version\n",
    "\n",
    "class NeuralNetwork:\n",
    "    def __init__(self, input_size, hidden_size, output_size):\n",
    "        \"\"\"\n",
    "        :param input_size: Number of neurons in input layer (In other words number of inputs)\n",
    "        :param hidden_size: Number of neurons in second layer.\n",
    "        :param output_size: Number of neurons on last layer.\n",
    "        \"\"\"\n",
    "        self.weight_matrix1 = np.random.rand(hidden_size, input_size)\n",
    "        self.bias1 = np.random.rand(hidden_size, 1)\n",
    "        self.weight_matrix2 = np.random.rand(output_size, hidden_size)\n",
    "        self.bias2 = np.random.rand(output_size, 1)\n",
    "\n",
    "        self.input_size = input_size\n",
    "        self.hidden_size = hidden_size\n",
    "        self.output_size = output_size\n",
    "\n",
    "    def forward(self, X):\n",
    "        \"\"\"\n",
    "        Imitates a nueral network.\n",
    "        :param X: An ndarray of shape (input_size, 1), the input for a network.\n",
    "        :return: The prediction of the network, an ndarray of shape (output_size, 1)\n",
    "        \"\"\"\n",
    "        X = (self.weight_matrix1 @ X) + self.bias1\n",
    "        X = sigmoid(X)\n",
    "        X = (self.weight_matrix2 @ X) + self.bias2\n",
    "        X = sigmoid(X)\n",
    "        return X"
   ],
   "metadata": {
    "collapsed": false,
    "pycharm": {
     "name": "#%%\n"
    }
   }
  },
  {
   "cell_type": "code",
   "execution_count": 33,
   "outputs": [
    {
     "name": "stdout",
     "output_type": "stream",
     "text": [
      "[[0.87822809]\n",
      " [0.50194276]\n",
      " [0.81351902]]\n"
     ]
    }
   ],
   "source": [
    "my_network = NeuralNetwork(3, 5, 2)\n",
    "X = np.random.rand(3, 1)\n",
    "print(X)"
   ],
   "metadata": {
    "collapsed": false,
    "pycharm": {
     "name": "#%%\n"
    }
   }
  },
  {
   "cell_type": "code",
   "execution_count": 34,
   "outputs": [
    {
     "name": "stdout",
     "output_type": "stream",
     "text": [
      "[[0.93476455]\n",
      " [0.82683394]]\n"
     ]
    }
   ],
   "source": [
    "\n",
    "result = my_network.forward(X)\n",
    "print(result)"
   ],
   "metadata": {
    "collapsed": false,
    "pycharm": {
     "name": "#%%\n"
    }
   }
  },
  {
   "cell_type": "markdown",
   "source": [
    "# MNIST"
   ],
   "metadata": {
    "collapsed": false,
    "pycharm": {
     "name": "#%% md\n"
    }
   }
  },
  {
   "cell_type": "code",
   "execution_count": 2,
   "outputs": [],
   "source": [
    "# załadowanie danych MNIST z folderu:\n",
    "images = loader.load_training_images(\"data/MNIST/train-images.idx3-ubyte\")\n",
    "labels = loader.load_training_labels('data/MNIST/train-labels.idx1-ubyte')"
   ],
   "metadata": {
    "collapsed": false,
    "pycharm": {
     "name": "#%%\n"
    }
   }
  },
  {
   "cell_type": "code",
   "execution_count": 3,
   "outputs": [
    {
     "data": {
      "text/plain": "(60000, 784, 1)"
     },
     "execution_count": 3,
     "metadata": {},
     "output_type": "execute_result"
    }
   ],
   "source": [
    "images.shape"
   ],
   "metadata": {
    "collapsed": false,
    "pycharm": {
     "name": "#%%\n"
    }
   }
  },
  {
   "cell_type": "code",
   "execution_count": 7,
   "outputs": [
    {
     "name": "stdout",
     "output_type": "stream",
     "text": [
      "Label is: 9\n"
     ]
    },
    {
     "data": {
      "text/plain": "<matplotlib.image.AxesImage at 0x209fadc1fd0>"
     },
     "execution_count": 7,
     "metadata": {},
     "output_type": "execute_result"
    },
    {
     "data": {
      "text/plain": "<Figure size 432x288 with 1 Axes>",
      "image/png": "[encoded data removed]"
     },
     "metadata": {
      "needs_background": "light"
     },
     "output_type": "display_data"
    }
   ],
   "source": [
    "# pokazanie przykładowego obrazu i jego label\n",
    "i = 2137\n",
    "print('Label is:', labels[i])\n",
    "plt.imshow(np.reshape(images[i], (28,28)), cmap='gray', vmin=0.0, vmax=1.0)"
   ],
   "metadata": {
    "collapsed": false,
    "pycharm": {
     "name": "#%%\n"
    }
   }
  },
  {
   "cell_type": "markdown",
   "source": [
    "W PyTorch'u wytrenowałem siec neuronową do rozpoznawania cyfr. Siec ta ma jedną ukrytą warstwę w której jest 2048 neuronow, a jej warstwa wyjściowa ma 10 neuronów. Siec ta oczekuje mieć na wejściu tablice o kształcie (784,1). W folderze /data/model są cztery pliki: weights_matrix1.npy, bias1.npy,  weights_matrix1.npy, bias1.npy. . W każdym z tych plików zapisana jest jedna tablica numpy (ndarray). W pliku  weights_matrix1.npy opisana jest tablica opisująca wagi pierwszej ukrytej warstwy i myślę że domyślasz się co jest w pozostałych plikach. Każda tablica została zapisana przy pomocy fukcji numpy.save() i można ją załadowac przy pomocy funkcji numpy.load() . Typ danych każdej z tablic to numpy.float32 (, ale numpy samo powinno wykryć typ danych więc nie musisz tego precyzować). Oto kształty tablic zapisane w poszczególnych plikach: <br>\n",
    "weights_matrix1.npy : (2048, 784) <br>\n",
    "bias1.npy : (2048, 1) <br>\n",
    "weights_matrix1.npy : (784, 10) <br>\n",
    "bias1.npy : (10, 1) <br>\n",
    "<br>\n",
    "Utwórz obiekt klasy NeuralNetwork i wczytaj z powyższych czterech plików parametry sieci. Możesz dodać do klasy NeuralNetwork funkcję, która to robi, lub po prostu zrobić to krok po kroku \"ręcznie\". Jak już wczytasz paramtery siecie to sprawdz jak działa twoja siec na danych z MNIST.\n"
   ],
   "metadata": {
    "collapsed": false,
    "pycharm": {
     "name": "#%% md\n"
    }
   }
  },
  {
   "cell_type": "code",
   "execution_count": 8,
   "outputs": [],
   "source": [
    "my_network = NeuralNetwork(784, 2048, 10)"
   ],
   "metadata": {
    "collapsed": false,
    "pycharm": {
     "name": "#%%\n"
    }
   }
  },
  {
   "cell_type": "code",
   "execution_count": 6,
   "outputs": [],
   "source": [
    "# second version:\n",
    "\n",
    "class NeuralNetwork:\n",
    "    def __init__(self, input_size, hidden_size, output_size):\n",
    "        \"\"\"\n",
    "        :param input_size: Number of neurons in input layer (In other words number of inputs)\n",
    "        :param hidden_size: Number of neurons in second layer.\n",
    "        :param output_size: Number of neurons on last layer.\n",
    "        \"\"\"\n",
    "        self.weight_matrix1 = np.random.rand(hidden_size, input_size)\n",
    "        self.bias1 = np.random.rand(hidden_size, 1)\n",
    "        self.weight_matrix2 = np.random.rand(output_size, hidden_size)\n",
    "        self.bias2 = np.random.rand(output_size, 1)\n",
    "\n",
    "        self.input_size = input_size\n",
    "        self.hidden_size = hidden_size\n",
    "        self.output_size = output_size\n",
    "\n",
    "    def forward(self, X):\n",
    "        \"\"\"\n",
    "        Imitates a nueral network.\n",
    "        :param X: An ndarray of shape (input_size, 1), the input for a network.\n",
    "        :return: The prediction of the network, an ndarray of shape (output_size, 1)\n",
    "        \"\"\"\n",
    "        X = (self.weight_matrix1 @ X) + self.bias1\n",
    "        X = sigmoid(X)\n",
    "        X = (self.weight_matrix2 @ X) + self.bias2\n",
    "        X = sigmoid(X)\n",
    "        return X\n",
    "\n",
    "    def load_parameters(self, dir_name:str) -> bool:\n",
    "        \"\"\"\n",
    "        Loads network parameters from files which are in passed directory. If some problems occur, information about them is printed on the screen.\n",
    "\n",
    "        :param dir_name: Path to directory in which are four files named: weights_matrix1.npy, bias1.npy,  weights_matrix1.npy, bias1.npy.\n",
    "                         Each file corresponds to one matrix.\n",
    "\n",
    "        :return: True in case of success, False otherwise.\n",
    "        \"\"\"\n",
    "        all_good = True\n",
    "\n",
    "        try:\n",
    "            weight_matrix1 = np.load(dir_name+'/weights_matrix1.npy')\n",
    "            if weight_matrix1.shape != (self.hidden_size, self.input_size):\n",
    "                print(f'Expected shape of first weight matrix: {(self.hidden_size, self.input_size)}, got: {weight_matrix1.shape} ')\n",
    "                return False\n",
    "            else:\n",
    "                self.weight_matrix1 = weight_matrix1\n",
    "\n",
    "            bias1 = np.load(dir_name+'/bias1.npy')\n",
    "            if bias1.shape != (self.hidden_size, 1):\n",
    "                print(f'Expected shape of first bias matrix: {(self.hidden_size, 1)}, got: {bias1.shape} ')\n",
    "                return False\n",
    "            else:\n",
    "                self.bias1 = bias1\n",
    "\n",
    "            weight_matrix2 = np.load(dir_name+'/weights_matrix2.npy')\n",
    "            if weight_matrix2.shape != (self.output_size, self.hidden_size):\n",
    "                print(f'Expected shape of first matrix: {(self.output_size, self.hidden_size)}, got: {weight_matrix1.shape} ')\n",
    "                return False\n",
    "            else:\n",
    "                self.weight_matrix2 = weight_matrix2\n",
    "\n",
    "            bias2 = np.load(dir_name+'/bias2.npy')\n",
    "            if bias2.shape != (self.output_size, 1):\n",
    "                print(f'Expected shape of second bias matrix: {(self.output_size, 1)}, got: {bias2.shape} ')\n",
    "                return False\n",
    "            else:\n",
    "                self.bias2 = bias2\n",
    "\n",
    "        except Exception as e:\n",
    "            print(f'While trying to read parameters from {dir_name} directory the following exception occured:')\n",
    "            print(e)\n",
    "            all_good = False\n",
    "\n",
    "        return all_good"
   ],
   "metadata": {
    "collapsed": false,
    "pycharm": {
     "name": "#%%\n"
    }
   }
  },
  {
   "cell_type": "code",
   "execution_count": 9,
   "outputs": [
    {
     "data": {
      "text/plain": "True"
     },
     "execution_count": 9,
     "metadata": {},
     "output_type": "execute_result"
    }
   ],
   "source": [
    "my_network.load_parameters('data/model')"
   ],
   "metadata": {
    "collapsed": false,
    "pycharm": {
     "name": "#%%\n"
    }
   }
  },
  {
   "cell_type": "code",
   "execution_count": 13,
   "outputs": [
    {
     "name": "stdout",
     "output_type": "stream",
     "text": [
      "Label is: 9\n",
      "[[0.01005153]\n",
      " [0.        ]\n",
      " [0.00000402]\n",
      " [0.        ]\n",
      " [0.15527386]\n",
      " [0.00004088]\n",
      " [0.00000002]\n",
      " [0.04194034]\n",
      " [0.00046643]\n",
      " [0.99618592]]\n"
     ]
    },
    {
     "data": {
      "text/plain": "<Figure size 432x288 with 1 Axes>",
      "image/png": "[encoded data removed]"
     },
     "metadata": {
      "needs_background": "light"
     },
     "output_type": "display_data"
    }
   ],
   "source": [
    "np.set_printoptions(suppress=True)\n",
    "i = 2137\n",
    "X = images[i]\n",
    "print('Label is:', labels[i])\n",
    "plt.imshow(np.reshape(X, (28,28)), cmap='gray', vmin=0.0, vmax=1.0)\n",
    "pred = my_network.forward(X)\n",
    "print(pred)"
   ],
   "metadata": {
    "collapsed": false,
    "pycharm": {
     "name": "#%%\n"
    }
   }
  }
 ],
 "metadata": {
  "kernelspec": {
   "display_name": "Python 3",
   "language": "python",
   "name": "python3"
  },
  "language_info": {
   "codemirror_mode": {
    "name": "ipython",
    "version": 2
   },
   "file_extension": ".py",
   "mimetype": "text/x-python",
   "name": "python",
   "nbconvert_exporter": "python",
   "pygments_lexer": "ipython2",
   "version": "2.7.6"
  }
 },
 "nbformat": 4,
 "nbformat_minor": 0
}