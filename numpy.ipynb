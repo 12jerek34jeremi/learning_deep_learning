{
 "cells": [
  {
   "cell_type": "code",
   "execution_count": null,
   "metadata": {
    "pycharm": {
     "name": "#%%\n"
    }
   },
   "outputs": [],
   "source": [
    "import numpy as np\n",
    "import MNIST_loader as loader # przyda się później do wczytania danych MNIST\n",
    "import matplotlib.pyplot as plt # do wyświetlania wykresów i obrazów"
   ]
  },
  {
   "cell_type": "markdown",
   "metadata": {
    "pycharm": {
     "name": "#%% md\n"
    }
   },
   "source": [
    "# Tworzenie tablic"
   ]
  },
  {
   "cell_type": "code",
   "execution_count": null,
   "metadata": {
    "collapsed": false,
    "pycharm": {
     "name": "#%%\n"
    }
   },
   "outputs": [],
   "source": [
    "my_array = np.array([16, 13, 112, 23, 54])\n",
    "print(my_array)"
   ]
  },
  {
   "cell_type": "code",
   "execution_count": null,
   "metadata": {
    "collapsed": false,
    "pycharm": {
     "name": "#%%\n"
    }
   },
   "outputs": [],
   "source": [
    "my_array = np.array([[16, 13, 112], [23, 54, 45]])\n",
    "print(my_array)"
   ]
  },
  {
   "cell_type": "markdown",
   "metadata": {
    "collapsed": false,
    "pycharm": {
     "name": "#%% md\n"
    }
   },
   "source": [
    "Zmienianie kształtu tablicy"
   ]
  },
  {
   "cell_type": "code",
   "execution_count": null,
   "metadata": {
    "collapsed": false,
    "pycharm": {
     "name": "#%%\n"
    }
   },
   "outputs": [],
   "source": [
    "my_array = np.array([17, 12, 2, 7, 1, 5])\n",
    "print(my_array, '\\n\\n')\n",
    "my_array.resize((2, 3))\n",
    "print(my_array)"
   ]
  },
  {
   "cell_type": "code",
   "execution_count": null,
   "metadata": {
    "collapsed": false,
    "pycharm": {
     "name": "#%%\n"
    }
   },
   "outputs": [],
   "source": [
    "my_array = np.zeros((3, 7))\n",
    "print(my_array)"
   ]
  },
  {
   "cell_type": "code",
   "execution_count": null,
   "metadata": {
    "collapsed": false,
    "pycharm": {
     "name": "#%%\n"
    }
   },
   "outputs": [],
   "source": [
    "my_array = np.arange(15, 33)\n",
    "print(my_array)"
   ]
  },
  {
   "cell_type": "markdown",
   "metadata": {
    "collapsed": false,
    "pycharm": {
     "name": "#%% md\n"
    }
   },
   "source": [
    "# Indeksowanie"
   ]
  },
  {
   "cell_type": "code",
   "execution_count": null,
   "metadata": {
    "collapsed": false,
    "pycharm": {
     "name": "#%%\n"
    }
   },
   "outputs": [],
   "source": [
    "my_array1 = np.array([16, 13, 112, 23, 54])\n",
    "my_array2 = np.array([[16, 13, 112], [23, 54, 45]])\n",
    "print(my_array1, '\\n\\n')\n",
    "print(my_array2)"
   ]
  },
  {
   "cell_type": "code",
   "execution_count": null,
   "metadata": {
    "collapsed": false,
    "pycharm": {
     "name": "#%%\n"
    }
   },
   "outputs": [],
   "source": [
    "my_array1[3]"
   ]
  },
  {
   "cell_type": "code",
   "execution_count": null,
   "metadata": {
    "collapsed": false,
    "pycharm": {
     "name": "#%%\n"
    }
   },
   "outputs": [],
   "source": [
    "my_array2[0,1]"
   ]
  },
  {
   "cell_type": "code",
   "execution_count": null,
   "metadata": {
    "collapsed": false,
    "pycharm": {
     "name": "#%%\n"
    }
   },
   "outputs": [],
   "source": [
    "## więcej indeksowania na dole w notebooku"
   ]
  },
  {
   "cell_type": "markdown",
   "metadata": {
    "collapsed": false,
    "pycharm": {
     "name": "#%% md\n"
    }
   },
   "source": [
    "# Zadanie 1:\n",
    "Stwórz fukcję, która bierze jako argumenty dwie liczbę naturalne N i L oraz tworzy tablice o kształcie (L,) (jednowymiarową), taką że wszysktie elementy tablicy oprócz elemntu o indeksie N to zera. Element o indeksie N ma wartość swojego indeksu. Możesz pominąc walidację danych.\n",
    "\n",
    "Czyli na przykład dla N=2 i L=7 wyprodukej taką tablice: [0.0, 0.0, 1.0, 0.0, 0.0, 0.0, 0.0]"
   ]
  },
  {
   "cell_type": "code",
   "execution_count": null,
   "metadata": {
    "collapsed": false,
    "pycharm": {
     "name": "#%%\n"
    }
   },
   "outputs": [],
   "source": [
    "def one_hot_encoding(number : int, length: int =10) -> np.ndarray:\n",
    "    \"\"\"\n",
    "    Creates a one hot encoding of a number.\n",
    "    5  --> [0, 0, 0, 0, 0, 1, 0, 0, 0, 0]\n",
    "    :param length: Length of returned ndarray.\n",
    "    :param number: (int) Natural number.\n",
    "    :return: An ndarray of shape (L,) with all elements equal to zero, except element which index is N. Element which index is N has it's index value.\n",
    "    \"\"\"\n",
    "    pass"
   ]
  },
  {
   "cell_type": "code",
   "execution_count": null,
   "metadata": {
    "collapsed": false,
    "pycharm": {
     "name": "#%%\n"
    }
   },
   "outputs": [],
   "source": [
    "print(one_hot_encoding(2, 7))"
   ]
  },
  {
   "cell_type": "markdown",
   "metadata": {
    "collapsed": false,
    "pycharm": {
     "name": "#%% md\n"
    }
   },
   "source": [
    "# Zadanie 2 (optional)\n",
    "Stwóz funkcję która, zakoduje w sposób one-hot kilka liczb naturalnych. Mówiąc inaczej stworzy macierz, która ma tyle wierszy ile liczb ma zakodować. W każdym wierszu tylko jeden element ma wartośc jeden, pozostałe mają wartosć 0.0 . Element wiersza o wartości 1.0 ma indeks równy liczbie którą zakodowuje. (Każdy wiersz zakodowuje jedną liczbę.) Liczba kolumn to wartość największej liczby do zakodowania zwiększona o 1. Możesz pominąc walidację danych.\n",
    "\n",
    "Przykładowo:"
   ]
  },
  {
   "cell_type": "code",
   "execution_count": null,
   "metadata": {
    "collapsed": false,
    "pycharm": {
     "name": "#%%\n"
    }
   },
   "outputs": [],
   "source": [
    "#                   [[0, 0, 1, 0, 0, 0]\n",
    "# [2, 0, 5, 2]  -->  [1, 0, 0, 0, 0, 0]\n",
    "#                    [0, 0, 0, 0, 0, 1]\n",
    "#                    [0, 0, 1, 0, 0, 0]]"
   ]
  },
  {
   "cell_type": "code",
   "execution_count": null,
   "metadata": {
    "collapsed": false,
    "pycharm": {
     "name": "#%%\n"
    }
   },
   "outputs": [],
   "source": [
    "def one_hot_encoding_multi(numbers: list[int]) -> np.ndarray:\n",
    "    \"\"\"\n",
    "    Performs an one-hot encoding on list of natural number\n",
    "\n",
    "    :param list: A list of natural numbers to encode.\n",
    "    :return: An ndarray of shape (L, max_n + 1), where L is length of 'numbers' list (how many numbers to encode) and max_n is value of the greatest number in passed list.\n",
    "             In each row of returned matrix only one element has value 1.0, all other elements has value 0.0. Each row corresponds to one number. Index of element of value 1.0 is equal to number the row is encoding.\n",
    "    \"\"\"\n",
    "    pass"
   ]
  },
  {
   "cell_type": "code",
   "execution_count": null,
   "metadata": {
    "collapsed": false,
    "pycharm": {
     "name": "#%%\n"
    }
   },
   "outputs": [],
   "source": [
    "print(one_hot_encoding_multi([12, 13, 7, 5]))"
   ]
  },
  {
   "cell_type": "markdown",
   "metadata": {
    "collapsed": false,
    "pycharm": {
     "name": "#%% md\n"
    }
   },
   "source": [
    "# Elementwise"
   ]
  },
  {
   "cell_type": "code",
   "execution_count": null,
   "metadata": {
    "collapsed": false,
    "pycharm": {
     "name": "#%%\n"
    }
   },
   "outputs": [],
   "source": [
    "array1 = np.array([12, 3, 2, 1])\n",
    "array2 = np.array([4, 1, 8, 15])\n",
    "print('array1: \\n', array1, '\\narray2:\\n', array2)"
   ]
  },
  {
   "cell_type": "code",
   "execution_count": null,
   "metadata": {
    "collapsed": false,
    "pycharm": {
     "name": "#%%\n"
    }
   },
   "outputs": [],
   "source": [
    "result = array1 +array2\n",
    "print(result)"
   ]
  },
  {
   "cell_type": "code",
   "execution_count": null,
   "metadata": {
    "collapsed": false,
    "pycharm": {
     "name": "#%%\n"
    }
   },
   "outputs": [],
   "source": [
    "array1 = np.array([[5, 4], [2, 3]])\n",
    "array2 = np.array([[7, 2], [1, 8]])\n",
    "print('array1: \\n', array1, '\\n\\narray2:\\n', array2)"
   ]
  },
  {
   "cell_type": "code",
   "execution_count": null,
   "metadata": {
    "collapsed": false,
    "pycharm": {
     "name": "#%%\n"
    }
   },
   "outputs": [],
   "source": [
    "result1 = array1 * array2\n",
    "print('array1 * array2:', result1)"
   ]
  },
  {
   "cell_type": "code",
   "execution_count": null,
   "metadata": {
    "collapsed": false,
    "pycharm": {
     "name": "#%%\n"
    }
   },
   "outputs": [],
   "source": [
    "array1 = np.array([1, 2, 3, 4, 5, 6], dtype=np.float64)\n",
    "print(array1)"
   ]
  },
  {
   "cell_type": "code",
   "execution_count": null,
   "metadata": {
    "collapsed": false,
    "pycharm": {
     "name": "#%%\n"
    }
   },
   "outputs": [],
   "source": [
    "result1 = array1 * 2.5\n",
    "print(result1)"
   ]
  },
  {
   "cell_type": "code",
   "execution_count": null,
   "metadata": {
    "collapsed": false,
    "pycharm": {
     "name": "#%%\n"
    }
   },
   "outputs": [],
   "source": [
    "result2 = 1.0 / array1\n",
    "print(result2)"
   ]
  },
  {
   "cell_type": "markdown",
   "metadata": {
    "collapsed": false,
    "pycharm": {
     "name": "#%% md\n"
    }
   },
   "source": [
    "# Zadanie 3\n",
    "Napisz funkcję sigmoid. Polecam : <a href=\"https://numpy.org/doc/stable/reference/generated/numpy.exp.html\">numpy.exp()</a>\n",
    "![title](notebooks_data/sigmoid.png)"
   ]
  },
  {
   "cell_type": "code",
   "execution_count": null,
   "metadata": {
    "collapsed": false,
    "pycharm": {
     "name": "#%%\n"
    }
   },
   "outputs": [],
   "source": [
    "def sigmoid(z: np.ndarray):\n",
    "    \"\"\"\n",
    "    :param z: Arguments for sigmoid function\n",
    "    :return: Values of sigmoid function for consecutive arguments.\n",
    "    \"\"\"\n",
    "    pass"
   ]
  },
  {
   "cell_type": "code",
   "execution_count": null,
   "metadata": {
    "collapsed": false,
    "pycharm": {
     "name": "#%%\n"
    }
   },
   "outputs": [],
   "source": [
    "np.set_printoptions(suppress=True)\n",
    "z = np.array([-10.0, -5.0, -1.0, 0.0, 1.0, 5.0, 10.0])\n",
    "result = sigmoid(z)\n",
    "print(result)"
   ]
  },
  {
   "cell_type": "markdown",
   "metadata": {
    "collapsed": false,
    "pycharm": {
     "name": "#%% md\n"
    }
   },
   "source": [
    "# Mnożenie macierzy:"
   ]
  },
  {
   "cell_type": "code",
   "execution_count": null,
   "metadata": {
    "collapsed": false,
    "pycharm": {
     "name": "#%%\n"
    }
   },
   "outputs": [],
   "source": [
    "A = np.array([[1, 3, 4], [2, 7, 8]])\n",
    "B = np.array([[1, 3], [5, 1], [12, 4]])\n",
    "print('A: \\n', A, '\\n\\nB:\\n', B)"
   ]
  },
  {
   "cell_type": "code",
   "execution_count": null,
   "metadata": {
    "collapsed": false,
    "pycharm": {
     "name": "#%%\n"
    }
   },
   "outputs": [],
   "source": [
    "C = A @ B\n",
    "print(C)"
   ]
  },
  {
   "cell_type": "code",
   "execution_count": null,
   "metadata": {
    "collapsed": false,
    "pycharm": {
     "name": "#%%\n"
    }
   },
   "outputs": [],
   "source": [
    "C = np.matmul(A, B)\n",
    "C = np.dot(A, B)"
   ]
  },
  {
   "cell_type": "markdown",
   "metadata": {
    "collapsed": false,
    "pycharm": {
     "name": "#%% md\n"
    }
   },
   "source": [
    "# Siec Neuronowa\n",
    "Napisz interpretacje sieci neuronowej, która posiada tylko jedną warstwę ukrytą. Konstruktorowi klasy przesyłamy liczbę neuronów w poszczególnych warstwach. Klasa posiada funkcje forward, która imituje działanie sieci neuronowej. Warstwa ukryta i wyjściowa powinna mieć aktywację sigmoid."
   ]
  },
  {
   "cell_type": "code",
   "execution_count": null,
   "metadata": {
    "collapsed": false,
    "pycharm": {
     "name": "#%%\n"
    }
   },
   "outputs": [],
   "source": [
    "# first version\n",
    "\n",
    "class NeuralNetwork:\n",
    "    def __init__(self, input_size, hidden_size, output_size):\n",
    "        \"\"\"\n",
    "        :param input_size: Number of neurons in input layer (In other words number of inputs)\n",
    "        :param hidden_size: Number of neurons in second layer.\n",
    "        :param output_size: Number of neurons on last layer.\n",
    "        \"\"\"\n",
    "        pass\n",
    "\n",
    "    def forward(self, X):\n",
    "        \"\"\"\n",
    "        Imitates a nueral network.\n",
    "        :param X: An ndarray of shape (input_size, 1), the input for a network.\n",
    "        :return: The prediction of the network, an ndarray of shape (output_size, 1)\n",
    "        \"\"\"\n",
    "        pass"
   ]
  },
  {
   "cell_type": "code",
   "execution_count": null,
   "metadata": {
    "collapsed": false,
    "pycharm": {
     "name": "#%%\n"
    }
   },
   "outputs": [],
   "source": [
    "my_network = NeuralNetwork(3, 5, 2)\n",
    "X = np.random.rand(3, 1)\n",
    "print(X)"
   ]
  },
  {
   "cell_type": "code",
   "execution_count": null,
   "metadata": {
    "collapsed": false,
    "pycharm": {
     "name": "#%%\n"
    }
   },
   "outputs": [],
   "source": [
    "\n",
    "result = my_network.forward(X)\n",
    "print(result)"
   ]
  },
  {
   "cell_type": "markdown",
   "metadata": {
    "collapsed": false,
    "pycharm": {
     "name": "#%% md\n"
    }
   },
   "source": [
    "# MNIST"
   ]
  },
  {
   "cell_type": "code",
   "execution_count": null,
   "metadata": {
    "collapsed": false,
    "pycharm": {
     "name": "#%%\n"
    }
   },
   "outputs": [],
   "source": [
    "# załadowanie danych MNIST z folderu:\n",
    "images = loader.load_training_images(\"data/MNIST/train-images.idx3-ubyte\")\n",
    "labels = loader.load_training_labels('data/MNIST/train-labels.idx1-ubyte')"
   ]
  },
  {
   "cell_type": "code",
   "execution_count": null,
   "metadata": {
    "collapsed": false,
    "pycharm": {
     "name": "#%%\n"
    }
   },
   "outputs": [],
   "source": [
    "images.shape"
   ]
  },
  {
   "cell_type": "code",
   "execution_count": null,
   "metadata": {
    "collapsed": false,
    "pycharm": {
     "name": "#%%\n"
    }
   },
   "outputs": [],
   "source": [
    "# pokazanie przykładowego obrazu i jego label\n",
    "i = 2137\n",
    "print('Label is:', labels[i])\n",
    "plt.imshow(np.reshape(images[i], (28,28)), cmap='gray', vmin=0.0, vmax=1.0)"
   ]
  }
 ],
 "metadata": {
  "kernelspec": {
   "display_name": "Python 3.10.4 64-bit",
   "language": "python",
   "name": "python3"
  },
  "language_info": {
   "codemirror_mode": {
    "name": "ipython",
    "version": 3
   },
   "file_extension": ".py",
   "mimetype": "text/x-python",
   "name": "python",
   "nbconvert_exporter": "python",
   "pygments_lexer": "ipython3",
   "version": "3.10.4"
  },
  "vscode": {
   "interpreter": {
    "hash": "e7370f93d1d0cde622a1f8e1c04877d8463912d04d973331ad4851f04de6915a"
   }
  }
 },
 "nbformat": 4,
 "nbformat_minor": 1
}
